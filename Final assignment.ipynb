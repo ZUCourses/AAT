{
 "cells": [
  {
   "cell_type": "markdown",
   "id": "b164c066",
   "metadata": {},
   "source": [
    "# Final Assignment\n",
    "\n",
    "## Part 1: Data Analysis and Visualization\n",
    "\n",
    "\n",
    "Overview\n",
    "Python has powerful tools that allow us to almost do anything with datasets such as organizing the data, aggregating, cleaning, analyzing, visualizing and more! For this assignment, you will be given a dataset and use them to ask and answer questions. Be sure to comment thoroughly so that it is clear that you understand what every line of the code is intended to accomplish.\n",
    "\n",
    "Dataset\n",
    "You will work with a dataset that contains information on airline passengers. The dataset includes information on passengers' gender, customer type, age, type of travel, travel class, flight distance; results of a satisfaction survey given to these passengers; departure and arrival delays in minutes; and overall passenger satisfaction. The results of the satisfaction survey are on a scale of 1 to 5, where 5 is most satisfied and 1 is least satisfied. Detailed information about the variables in the datasets are given below.\n",
    "\n",
    "Dataset:\n",
    "https://raw.githubusercontent.com/ZUCourses/SIA-Public/main/airline_passengers.csv\n",
    "\n",
    "Variables:\n",
    "- Gender: Gender of the passengers (Female, male)\n",
    "- Customer type: The customer type (Loyal customer, disloyal customer)\n",
    "- Age: The actual age of the passengers\n",
    "- Type of travel: Purpose of the flight of the passengers (Personal travel, Business travel)\n",
    "- Class: Travel class in the plane (Business, Eco, Eco plus)\n",
    "- Flight distance: The flight distance of this journey\n",
    "- Departure delay in minutes\n",
    "- Arrival delay in minutes\n",
    "\n",
    "Satisfaction survey variables:\n",
    "- Inflight wifi service: Satisfaction level with inflight wifi\n",
    "- Departure/Arrival time convenient: Satisfaction level with the departure and arrival times\n",
    "- Food and drink: Satisfaction level with food and drink\n",
    "- Seat comfort: Satisfaction level with seats\n",
    "- Inflight entertainment: Satisfaction level with inflight entertainment\n",
    "- Inflight service: Satisfaction level with inflight service\n",
    "- Cleanliness: Satisfaction level with cleanliness\n",
    "- satisfaction: overall flight satisfaction (classified as neutral_or_dissatisfied and satisfied)\n",
    "\n"
   ]
  },
  {
   "cell_type": "markdown",
   "id": "3d084f5a",
   "metadata": {},
   "source": [
    "### Question 1.\n",
    "\n",
    "Write a code that returns (a) the first few rows of the data set and (b) the number of rows and columns in the dataframe and briefly describe the dataset."
   ]
  },
  {
   "cell_type": "code",
   "execution_count": null,
   "id": "b7bbc954",
   "metadata": {},
   "outputs": [],
   "source": [
    "#your code here"
   ]
  },
  {
   "cell_type": "markdown",
   "id": "cba92a79",
   "metadata": {},
   "source": [
    "#your explanation here"
   ]
  },
  {
   "cell_type": "markdown",
   "id": "e0d83db8",
   "metadata": {},
   "source": [
    "### Question 2.\n",
    "\n",
    "Write a code that returns (a) the min and max age of the passengers, (b) average age of the passengers, (c) numbers of female and male passengers accompanied by a chart, and (c) travel class distribution accompanied by a bar chart. Summarize the findings in a few sentences."
   ]
  },
  {
   "cell_type": "code",
   "execution_count": 2,
   "id": "f5fc9bbc",
   "metadata": {},
   "outputs": [],
   "source": [
    "#your code here"
   ]
  },
  {
   "cell_type": "markdown",
   "id": "6a29c51d",
   "metadata": {},
   "source": [
    "#your explanation here"
   ]
  },
  {
   "cell_type": "markdown",
   "id": "27eb38df",
   "metadata": {},
   "source": [
    "### Question 3.\n",
    "\n",
    "Write a code to compare the average flight distances of male and female passengers. Briefly explain your finding."
   ]
  },
  {
   "cell_type": "code",
   "execution_count": 3,
   "id": "c34ab332",
   "metadata": {},
   "outputs": [],
   "source": [
    "#your code here"
   ]
  },
  {
   "cell_type": "markdown",
   "id": "b6fc78f1",
   "metadata": {},
   "source": [
    "#your explanation here"
   ]
  },
  {
   "cell_type": "markdown",
   "id": "be4c761c",
   "metadata": {},
   "source": [
    "### Question 4.\n",
    "\n",
    "Write a code to compare the average flight distance by type of travel. That is, how does the mean flight distance of passengers on business travel compare to the mean flight of passengers on personal travel? Briefly explain your finding."
   ]
  },
  {
   "cell_type": "code",
   "execution_count": 4,
   "id": "938c4a83",
   "metadata": {},
   "outputs": [],
   "source": [
    "#your code here"
   ]
  },
  {
   "cell_type": "markdown",
   "id": "425af6a6",
   "metadata": {},
   "source": [
    "#your explanation here"
   ]
  },
  {
   "cell_type": "markdown",
   "id": "c4558044",
   "metadata": {},
   "source": [
    "### Question 5.\n",
    "\n",
    "Write a code that adds up all the satisfaction scores in the data set and saves them in a column named total_satisfaction. Then, plot the relationship between (a) Age and total_satisfaction and (b) flight distance and total satisfaction. Explain your findings in a few sentences."
   ]
  },
  {
   "cell_type": "code",
   "execution_count": 5,
   "id": "2ffbae3d",
   "metadata": {},
   "outputs": [],
   "source": [
    "#your code here"
   ]
  },
  {
   "cell_type": "markdown",
   "id": "e53ab9cd",
   "metadata": {},
   "source": [
    "#your explanation here"
   ]
  },
  {
   "cell_type": "markdown",
   "id": "5a201468",
   "metadata": {},
   "source": [
    "### Question 6.\n",
    "\n",
    "Develop one question yourself that can be answered with the information included in this dataset. Write the code to answer the question."
   ]
  },
  {
   "cell_type": "code",
   "execution_count": 6,
   "id": "81c69b82",
   "metadata": {},
   "outputs": [],
   "source": [
    "#your code here"
   ]
  },
  {
   "cell_type": "markdown",
   "id": "5c2c42d9",
   "metadata": {},
   "source": [
    "#your explanation here"
   ]
  },
  {
   "cell_type": "markdown",
   "id": "481f32d6",
   "metadata": {},
   "source": [
    "### Question 7.\n",
    "\n",
    "Develop one question yourself that can be answered with the information included in this dataset. Write the code to answer the question."
   ]
  },
  {
   "cell_type": "code",
   "execution_count": 7,
   "id": "42521380",
   "metadata": {},
   "outputs": [],
   "source": [
    "#your code here"
   ]
  },
  {
   "cell_type": "markdown",
   "id": "a10d9f48",
   "metadata": {},
   "source": [
    "#your explanation here"
   ]
  },
  {
   "cell_type": "markdown",
   "id": "e02f5b9c",
   "metadata": {},
   "source": [
    "## Part 2\n",
    "\n",
    "Write a function that will ask users to enter their name, age, the airlines they flew recently, and how satisfied they were with the airlines on a 1-10 scale until you enter quit. Save the entries in a dictionary.\n",
    "\n",
    "Your function should return the following:\n",
    "\n",
    "**1.** The dictionary that includes all entries.\n",
    "\n",
    "**2.** A list named satisfied_passenger, which includes the passengers who entered a satisfaction score of 7 or higher.\n",
    "\n",
    "**3.** A list named unsatisfied_passenger, which includes the passengers who entered a satisfaction score of 3 or lower.\n",
    "\n",
    "**4.** A list named neutral_passenger, which includes the passengers who entered a satisfaction score of 4, 5, or 6.\n",
    "\n"
   ]
  },
  {
   "cell_type": "markdown",
   "id": "baa1f5d2",
   "metadata": {},
   "source": [
    "#### ALGORITHM\n",
    "\n",
    "You need to include the step-by-step algorithm of the function. You can then choose to submit either a pseudocode OR a flowchart to accompany your step-by-step algorithm."
   ]
  },
  {
   "cell_type": "markdown",
   "id": "32fac5d5",
   "metadata": {},
   "source": [
    "WRITE YOUR STEP-BY-STEP ALGORITHM HERE"
   ]
  },
  {
   "cell_type": "markdown",
   "id": "37555122",
   "metadata": {},
   "source": [
    "#### PSEUDOCODE"
   ]
  },
  {
   "cell_type": "markdown",
   "id": "4fcd9e02",
   "metadata": {},
   "source": [
    "WRITE YOUR PSEUDOCODE HERE"
   ]
  },
  {
   "cell_type": "markdown",
   "id": "1fd5c998",
   "metadata": {},
   "source": [
    "#### FLOWCHART\n",
    "\n",
    "Include the flowchart for your diagram here.\n",
    "\n",
    "NOTE: Let \"my_image.png\" be an image which is in the same directory as your jupyter notebook. If you would like to include that image on this notebook, then you can simply write in a code cell:"
   ]
  },
  {
   "cell_type": "code",
   "execution_count": null,
   "id": "daff3712",
   "metadata": {},
   "outputs": [],
   "source": [
    "from IPython.display import Image\n",
    "Image(\"my_image.png\")"
   ]
  },
  {
   "cell_type": "markdown",
   "id": "0d252b27",
   "metadata": {},
   "source": [
    "#### CODE\n",
    "\n"
   ]
  },
  {
   "cell_type": "code",
   "execution_count": 10,
   "id": "75d92f4b",
   "metadata": {},
   "outputs": [],
   "source": [
    "#enter your code here"
   ]
  },
  {
   "cell_type": "markdown",
   "id": "0086d555",
   "metadata": {},
   "source": [
    "#### TEST CASES\n",
    "\n"
   ]
  },
  {
   "cell_type": "code",
   "execution_count": 11,
   "id": "dce403b9",
   "metadata": {},
   "outputs": [],
   "source": [
    "# demonstrate the correctness of your code by showing it works as intended on a number of well-identified test cases\n"
   ]
  },
  {
   "cell_type": "markdown",
   "id": "0a6b84d4",
   "metadata": {},
   "source": [
    "#### Additional code description\n"
   ]
  },
  {
   "cell_type": "markdown",
   "id": "298c0a50",
   "metadata": {},
   "source": [
    "Include any other details of your algorithmic approach or any other points here."
   ]
  },
  {
   "cell_type": "markdown",
   "id": "9a494504",
   "metadata": {},
   "source": [
    "#### REFERENCES\n",
    "\n"
   ]
  },
  {
   "cell_type": "markdown",
   "id": "a14f871f",
   "metadata": {},
   "source": [
    "INCLUDE YOUR REFERENCES HERE"
   ]
  }
 ],
 "metadata": {
  "kernelspec": {
   "display_name": "Python 3",
   "language": "python",
   "name": "python3"
  },
  "language_info": {
   "codemirror_mode": {
    "name": "ipython",
    "version": 3
   },
   "file_extension": ".py",
   "mimetype": "text/x-python",
   "name": "python",
   "nbconvert_exporter": "python",
   "pygments_lexer": "ipython3",
   "version": "3.8.8"
  }
 },
 "nbformat": 4,
 "nbformat_minor": 5
}
